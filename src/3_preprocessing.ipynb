{
  "nbformat": 4,
  "nbformat_minor": 0,
  "metadata": {
    "colab": {
      "provenance": [],
      "toc_visible": true
    },
    "kernelspec": {
      "name": "python3",
      "display_name": "Python 3"
    },
    "language_info": {
      "name": "python"
    }
  },
  "cells": [
    {
      "cell_type": "code",
      "source": [
        "%%shell\n",
        "pip install nltk spacy"
      ],
      "metadata": {
        "colab": {
          "base_uri": "https://localhost:8080/"
        },
        "id": "hwq6j3jIy4W8",
        "outputId": "cabbfa01-3b1f-4d77-b61b-42b1e8a38ed2"
      },
      "execution_count": null,
      "outputs": [
        {
          "output_type": "stream",
          "name": "stdout",
          "text": [
            "Requirement already satisfied: nltk in /usr/local/lib/python3.10/dist-packages (3.8.1)\n",
            "Requirement already satisfied: spacy in /usr/local/lib/python3.10/dist-packages (3.6.1)\n",
            "Requirement already satisfied: click in /usr/local/lib/python3.10/dist-packages (from nltk) (8.1.7)\n",
            "Requirement already satisfied: joblib in /usr/local/lib/python3.10/dist-packages (from nltk) (1.3.2)\n",
            "Requirement already satisfied: regex>=2021.8.3 in /usr/local/lib/python3.10/dist-packages (from nltk) (2023.6.3)\n",
            "Requirement already satisfied: tqdm in /usr/local/lib/python3.10/dist-packages (from nltk) (4.66.1)\n",
            "Requirement already satisfied: spacy-legacy<3.1.0,>=3.0.11 in /usr/local/lib/python3.10/dist-packages (from spacy) (3.0.12)\n",
            "Requirement already satisfied: spacy-loggers<2.0.0,>=1.0.0 in /usr/local/lib/python3.10/dist-packages (from spacy) (1.0.4)\n",
            "Requirement already satisfied: murmurhash<1.1.0,>=0.28.0 in /usr/local/lib/python3.10/dist-packages (from spacy) (1.0.9)\n",
            "Requirement already satisfied: cymem<2.1.0,>=2.0.2 in /usr/local/lib/python3.10/dist-packages (from spacy) (2.0.7)\n",
            "Requirement already satisfied: preshed<3.1.0,>=3.0.2 in /usr/local/lib/python3.10/dist-packages (from spacy) (3.0.8)\n",
            "Requirement already satisfied: thinc<8.2.0,>=8.1.8 in /usr/local/lib/python3.10/dist-packages (from spacy) (8.1.12)\n",
            "Requirement already satisfied: wasabi<1.2.0,>=0.9.1 in /usr/local/lib/python3.10/dist-packages (from spacy) (1.1.2)\n",
            "Requirement already satisfied: srsly<3.0.0,>=2.4.3 in /usr/local/lib/python3.10/dist-packages (from spacy) (2.4.7)\n",
            "Requirement already satisfied: catalogue<2.1.0,>=2.0.6 in /usr/local/lib/python3.10/dist-packages (from spacy) (2.0.9)\n",
            "Requirement already satisfied: typer<0.10.0,>=0.3.0 in /usr/local/lib/python3.10/dist-packages (from spacy) (0.9.0)\n",
            "Requirement already satisfied: pathy>=0.10.0 in /usr/local/lib/python3.10/dist-packages (from spacy) (0.10.2)\n",
            "Requirement already satisfied: smart-open<7.0.0,>=5.2.1 in /usr/local/lib/python3.10/dist-packages (from spacy) (6.3.0)\n",
            "Requirement already satisfied: numpy>=1.15.0 in /usr/local/lib/python3.10/dist-packages (from spacy) (1.23.5)\n",
            "Requirement already satisfied: requests<3.0.0,>=2.13.0 in /usr/local/lib/python3.10/dist-packages (from spacy) (2.31.0)\n",
            "Requirement already satisfied: pydantic!=1.8,!=1.8.1,<3.0.0,>=1.7.4 in /usr/local/lib/python3.10/dist-packages (from spacy) (2.2.1)\n",
            "Requirement already satisfied: jinja2 in /usr/local/lib/python3.10/dist-packages (from spacy) (3.1.2)\n",
            "Requirement already satisfied: setuptools in /usr/local/lib/python3.10/dist-packages (from spacy) (67.7.2)\n",
            "Requirement already satisfied: packaging>=20.0 in /usr/local/lib/python3.10/dist-packages (from spacy) (23.1)\n",
            "Requirement already satisfied: langcodes<4.0.0,>=3.2.0 in /usr/local/lib/python3.10/dist-packages (from spacy) (3.3.0)\n",
            "Requirement already satisfied: annotated-types>=0.4.0 in /usr/local/lib/python3.10/dist-packages (from pydantic!=1.8,!=1.8.1,<3.0.0,>=1.7.4->spacy) (0.5.0)\n",
            "Requirement already satisfied: pydantic-core==2.6.1 in /usr/local/lib/python3.10/dist-packages (from pydantic!=1.8,!=1.8.1,<3.0.0,>=1.7.4->spacy) (2.6.1)\n",
            "Requirement already satisfied: typing-extensions>=4.6.1 in /usr/local/lib/python3.10/dist-packages (from pydantic!=1.8,!=1.8.1,<3.0.0,>=1.7.4->spacy) (4.7.1)\n",
            "Requirement already satisfied: charset-normalizer<4,>=2 in /usr/local/lib/python3.10/dist-packages (from requests<3.0.0,>=2.13.0->spacy) (3.2.0)\n",
            "Requirement already satisfied: idna<4,>=2.5 in /usr/local/lib/python3.10/dist-packages (from requests<3.0.0,>=2.13.0->spacy) (3.4)\n",
            "Requirement already satisfied: urllib3<3,>=1.21.1 in /usr/local/lib/python3.10/dist-packages (from requests<3.0.0,>=2.13.0->spacy) (2.0.4)\n",
            "Requirement already satisfied: certifi>=2017.4.17 in /usr/local/lib/python3.10/dist-packages (from requests<3.0.0,>=2.13.0->spacy) (2023.7.22)\n",
            "Requirement already satisfied: blis<0.8.0,>=0.7.8 in /usr/local/lib/python3.10/dist-packages (from thinc<8.2.0,>=8.1.8->spacy) (0.7.10)\n",
            "Requirement already satisfied: confection<1.0.0,>=0.0.1 in /usr/local/lib/python3.10/dist-packages (from thinc<8.2.0,>=8.1.8->spacy) (0.1.1)\n",
            "Requirement already satisfied: MarkupSafe>=2.0 in /usr/local/lib/python3.10/dist-packages (from jinja2->spacy) (2.1.3)\n"
          ]
        },
        {
          "output_type": "execute_result",
          "data": {
            "text/plain": []
          },
          "metadata": {},
          "execution_count": 1
        }
      ]
    },
    {
      "cell_type": "code",
      "source": [
        "from pprint import pprint"
      ],
      "metadata": {
        "id": "kSoQxrP-1UJF"
      },
      "execution_count": null,
      "outputs": []
    },
    {
      "cell_type": "markdown",
      "source": [
        "# Tokenizacion"
      ],
      "metadata": {
        "id": "ANqlnKLexLA4"
      }
    },
    {
      "cell_type": "code",
      "source": [
        "x = \"este es un texto de ejemplo, pero tiene algunas consideraciones. Especialmente palabras-unidas.\""
      ],
      "metadata": {
        "id": "Qh5NijfFzb4N"
      },
      "execution_count": null,
      "outputs": []
    },
    {
      "cell_type": "code",
      "source": [
        "tokens = list(x)\n",
        "tokens"
      ],
      "metadata": {
        "colab": {
          "base_uri": "https://localhost:8080/"
        },
        "id": "a-PkcpPKzeGx",
        "outputId": "d7390c5b-4acb-478a-c564-fb91b13c70c8"
      },
      "execution_count": null,
      "outputs": [
        {
          "output_type": "execute_result",
          "data": {
            "text/plain": [
              "['e',\n",
              " 's',\n",
              " 't',\n",
              " 'e',\n",
              " ' ',\n",
              " 'e',\n",
              " 's',\n",
              " ' ',\n",
              " 'u',\n",
              " 'n',\n",
              " ' ',\n",
              " 't',\n",
              " 'e',\n",
              " 'x',\n",
              " 't',\n",
              " 'o',\n",
              " ' ',\n",
              " 'd',\n",
              " 'e',\n",
              " ' ',\n",
              " 'e',\n",
              " 'j',\n",
              " 'e',\n",
              " 'm',\n",
              " 'p',\n",
              " 'l',\n",
              " 'o',\n",
              " ',',\n",
              " ' ',\n",
              " 'p',\n",
              " 'e',\n",
              " 'r',\n",
              " 'o',\n",
              " ' ',\n",
              " 't',\n",
              " 'i',\n",
              " 'e',\n",
              " 'n',\n",
              " 'e',\n",
              " ' ',\n",
              " 'a',\n",
              " 'l',\n",
              " 'g',\n",
              " 'u',\n",
              " 'n',\n",
              " 'a',\n",
              " 's',\n",
              " ' ',\n",
              " 'c',\n",
              " 'o',\n",
              " 'n',\n",
              " 's',\n",
              " 'i',\n",
              " 'd',\n",
              " 'e',\n",
              " 'r',\n",
              " 'a',\n",
              " 'c',\n",
              " 'i',\n",
              " 'o',\n",
              " 'n',\n",
              " 'e',\n",
              " 's',\n",
              " '.',\n",
              " ' ',\n",
              " 'E',\n",
              " 's',\n",
              " 'p',\n",
              " 'e',\n",
              " 'c',\n",
              " 'i',\n",
              " 'a',\n",
              " 'l',\n",
              " 'm',\n",
              " 'e',\n",
              " 'n',\n",
              " 't',\n",
              " 'e',\n",
              " ' ',\n",
              " 'p',\n",
              " 'a',\n",
              " 'l',\n",
              " 'a',\n",
              " 'b',\n",
              " 'r',\n",
              " 'a',\n",
              " 's',\n",
              " '-',\n",
              " 'u',\n",
              " 'n',\n",
              " 'i',\n",
              " 'd',\n",
              " 'a',\n",
              " 's',\n",
              " '.']"
            ]
          },
          "metadata": {},
          "execution_count": 6
        }
      ]
    },
    {
      "cell_type": "code",
      "source": [
        "tokens = x.split(sep=\" \")\n",
        "tokens"
      ],
      "metadata": {
        "colab": {
          "base_uri": "https://localhost:8080/"
        },
        "id": "TZDEGQ9Tziza",
        "outputId": "da12a370-230b-4492-9fc1-9d8347d9dec5"
      },
      "execution_count": null,
      "outputs": [
        {
          "output_type": "execute_result",
          "data": {
            "text/plain": [
              "['este',\n",
              " 'es',\n",
              " 'un',\n",
              " 'texto',\n",
              " 'de',\n",
              " 'ejemplo,',\n",
              " 'pero',\n",
              " 'tiene',\n",
              " 'algunas',\n",
              " 'consideraciones.',\n",
              " 'Especialmente',\n",
              " 'palabras-unidas.']"
            ]
          },
          "metadata": {},
          "execution_count": 7
        }
      ]
    },
    {
      "cell_type": "markdown",
      "source": [
        "- nltk:"
      ],
      "metadata": {
        "id": "JfjPTgBGzE4e"
      }
    },
    {
      "cell_type": "code",
      "execution_count": null,
      "metadata": {
        "id": "4f87mnOJw6rY"
      },
      "outputs": [],
      "source": [
        "from nltk.tokenize import WordPunctTokenizer"
      ]
    },
    {
      "cell_type": "code",
      "source": [
        "tokenizer = WordPunctTokenizer()"
      ],
      "metadata": {
        "id": "gwUykf6X0t4D"
      },
      "execution_count": null,
      "outputs": []
    },
    {
      "cell_type": "code",
      "source": [
        "WordPunctTokenizer?"
      ],
      "metadata": {
        "id": "eSM9-PeS09sP"
      },
      "execution_count": null,
      "outputs": []
    },
    {
      "cell_type": "code",
      "source": [
        "x"
      ],
      "metadata": {
        "colab": {
          "base_uri": "https://localhost:8080/",
          "height": 35
        },
        "id": "OfhLn-vb016Q",
        "outputId": "df9f3ac9-cdee-49cd-be81-f0a161d7a03d"
      },
      "execution_count": null,
      "outputs": [
        {
          "output_type": "execute_result",
          "data": {
            "text/plain": [
              "'este es un texto de ejemplo, pero tiene algunas consideraciones. Especialmente palabras-unidas.'"
            ],
            "application/vnd.google.colaboratory.intrinsic+json": {
              "type": "string"
            }
          },
          "metadata": {},
          "execution_count": 12
        }
      ]
    },
    {
      "cell_type": "code",
      "source": [
        "tokenizer.tokenize(x)"
      ],
      "metadata": {
        "colab": {
          "base_uri": "https://localhost:8080/"
        },
        "id": "cVHWdd2q0wi8",
        "outputId": "15abaca4-0fb7-4823-88cc-fa12be12d585"
      },
      "execution_count": null,
      "outputs": [
        {
          "output_type": "execute_result",
          "data": {
            "text/plain": [
              "['este',\n",
              " 'es',\n",
              " 'un',\n",
              " 'texto',\n",
              " 'de',\n",
              " 'ejemplo',\n",
              " ',',\n",
              " 'pero',\n",
              " 'tiene',\n",
              " 'algunas',\n",
              " 'consideraciones',\n",
              " '.',\n",
              " 'Especialmente',\n",
              " 'palabras',\n",
              " '-',\n",
              " 'unidas',\n",
              " '.']"
            ]
          },
          "metadata": {},
          "execution_count": 11
        }
      ]
    },
    {
      "cell_type": "code",
      "source": [
        "text = \"\"\"\n",
        "Poco después del nacimiento de Gabriel, su padre se convirtió en farmacéutico y, en enero de 1928, se mudó con Luisa a Barranquilla, dejando a Gabriel en Aracataca al cuidado de sus abuelos maternos. Dado que vivió con ellos durante los primeros años de su vida, recibió una fuerte influencia del coronel Nicolás Márquez, quien de joven mató a Medardo Pacheco en un duelo y tuvo, además de los tres hijos oficiales, otros nueve con distintas madres. El coronel era un liberal veterano de la guerra de los Mil Días, muy respetado por sus copartidarios y conocido por su negativa a callar sobre la masacre de las bananeras, suceso en el que murieron cientos de personas a manos de las Fuerzas Armadas de Colombia durante una huelga de los trabajadores de las bananeras, hecho que García Márquez plasmaría en su obra.\n",
        "\"\"\""
      ],
      "metadata": {
        "id": "TVmmfZNB1NM-"
      },
      "execution_count": null,
      "outputs": []
    },
    {
      "cell_type": "code",
      "source": [
        "print(text)"
      ],
      "metadata": {
        "colab": {
          "base_uri": "https://localhost:8080/"
        },
        "id": "iV0tyv801QvY",
        "outputId": "27ebc627-dfa3-498b-8cfb-147d009721ff"
      },
      "execution_count": null,
      "outputs": [
        {
          "output_type": "stream",
          "name": "stdout",
          "text": [
            "\n",
            "Poco después del nacimiento de Gabriel, su padre se convirtió en farmacéutico y, en enero de 1928, se mudó con Luisa a Barranquilla, dejando a Gabriel en Aracataca al cuidado de sus abuelos maternos. Dado que vivió con ellos durante los primeros años de su vida, recibió una fuerte influencia del coronel Nicolás Márquez, quien de joven mató a Medardo Pacheco en un duelo y tuvo, además de los tres hijos oficiales, otros nueve con distintas madres. El coronel era un liberal veterano de la guerra de los Mil Días, muy respetado por sus copartidarios y conocido por su negativa a callar sobre la masacre de las bananeras, suceso en el que murieron cientos de personas a manos de las Fuerzas Armadas de Colombia durante una huelga de los trabajadores de las bananeras, hecho que García Márquez plasmaría en su obra.\n",
            "\n"
          ]
        }
      ]
    },
    {
      "cell_type": "code",
      "source": [
        "pprint(text)"
      ],
      "metadata": {
        "colab": {
          "base_uri": "https://localhost:8080/"
        },
        "id": "N6F7KSnF1YUX",
        "outputId": "38a1f5fd-ba90-4a69-90de-ec224ae9d9b4"
      },
      "execution_count": null,
      "outputs": [
        {
          "output_type": "stream",
          "name": "stdout",
          "text": [
            "('\\n'\n",
            " 'Poco después del nacimiento de Gabriel, su padre se convirtió en '\n",
            " 'farmacéutico y, en enero de 1928, se mudó con Luisa a Barranquilla, dejando '\n",
            " 'a Gabriel en Aracataca al cuidado de sus abuelos maternos. Dado que vivió '\n",
            " 'con ellos durante los primeros años de su vida, recibió una fuerte '\n",
            " 'influencia del coronel Nicolás Márquez, quien de joven mató a Medardo '\n",
            " 'Pacheco en un duelo y tuvo, además de los tres hijos oficiales, otros nueve '\n",
            " 'con distintas madres. El coronel era un liberal veterano de la guerra de los '\n",
            " 'Mil Días, muy respetado por sus copartidarios y conocido por su negativa a '\n",
            " 'callar sobre la masacre de las bananeras, suceso en el que murieron cientos '\n",
            " 'de personas a manos de las Fuerzas Armadas de Colombia durante una huelga de '\n",
            " 'los trabajadores de las bananeras, hecho que García Márquez plasmaría en su '\n",
            " 'obra.\\n')\n"
          ]
        }
      ]
    },
    {
      "cell_type": "code",
      "source": [
        "from nltk.tokenize import PunktSentenceTokenizer"
      ],
      "metadata": {
        "id": "bpXbq0e81fRe"
      },
      "execution_count": null,
      "outputs": []
    },
    {
      "cell_type": "code",
      "source": [
        "tok = PunktSentenceTokenizer()\n",
        "tokens = tok.tokenize(text)\n",
        "display(tokens)"
      ],
      "metadata": {
        "colab": {
          "base_uri": "https://localhost:8080/",
          "height": 191
        },
        "id": "8dFObUhN1i7-",
        "outputId": "ff38f9b4-46ce-4933-b2f0-48ae6e4f9cb2"
      },
      "execution_count": null,
      "outputs": [
        {
          "output_type": "display_data",
          "data": {
            "text/plain": [
              "['\\nPoco después del nacimiento de Gabriel, su padre se convirtió en farmacéutico y, en enero de 1928, se mudó con Luisa a Barranquilla, dejando a Gabriel en Aracataca al cuidado de sus abuelos maternos.',\n",
              " 'Dado que vivió con ellos durante los primeros años de su vida, recibió una fuerte influencia del coronel Nicolás Márquez, quien de joven mató a Medardo Pacheco en un duelo y tuvo, además de los tres hijos oficiales, otros nueve con distintas madres.',\n",
              " 'El coronel era un liberal veterano de la guerra de los Mil Días, muy respetado por sus copartidarios y conocido por su negativa a callar sobre la masacre de las bananeras, suceso en el que murieron cientos de personas a manos de las Fuerzas Armadas de Colombia durante una huelga de los trabajadores de las bananeras, hecho que García Márquez plasmaría en su obra.']"
            ]
          },
          "metadata": {}
        }
      ]
    },
    {
      "cell_type": "code",
      "source": [
        "import nltk\n",
        "nltk.download(\"punkt\")"
      ],
      "metadata": {
        "colab": {
          "base_uri": "https://localhost:8080/"
        },
        "id": "OQQHhXi22DGc",
        "outputId": "04ab3421-72e3-4732-cf27-7a85c4bf465c"
      },
      "execution_count": null,
      "outputs": [
        {
          "output_type": "stream",
          "name": "stderr",
          "text": [
            "[nltk_data] Downloading package punkt to /root/nltk_data...\n",
            "[nltk_data]   Unzipping tokenizers/punkt.zip.\n"
          ]
        },
        {
          "output_type": "execute_result",
          "data": {
            "text/plain": [
              "True"
            ]
          },
          "metadata": {},
          "execution_count": 24
        }
      ]
    },
    {
      "cell_type": "code",
      "source": [
        "from nltk.tokenize import word_tokenize, sent_tokenize"
      ],
      "metadata": {
        "id": "_6mPgUp2130q"
      },
      "execution_count": null,
      "outputs": []
    },
    {
      "cell_type": "code",
      "source": [
        "word_tokenize(text)"
      ],
      "metadata": {
        "colab": {
          "base_uri": "https://localhost:8080/"
        },
        "id": "svV8eAGX19xA",
        "outputId": "1a29f68d-21a8-41cd-84b5-c0a151a6cdaa"
      },
      "execution_count": null,
      "outputs": [
        {
          "output_type": "execute_result",
          "data": {
            "text/plain": [
              "['Poco',\n",
              " 'después',\n",
              " 'del',\n",
              " 'nacimiento',\n",
              " 'de',\n",
              " 'Gabriel',\n",
              " ',',\n",
              " 'su',\n",
              " 'padre',\n",
              " 'se',\n",
              " 'convirtió',\n",
              " 'en',\n",
              " 'farmacéutico',\n",
              " 'y',\n",
              " ',',\n",
              " 'en',\n",
              " 'enero',\n",
              " 'de',\n",
              " '1928',\n",
              " ',',\n",
              " 'se',\n",
              " 'mudó',\n",
              " 'con',\n",
              " 'Luisa',\n",
              " 'a',\n",
              " 'Barranquilla',\n",
              " ',',\n",
              " 'dejando',\n",
              " 'a',\n",
              " 'Gabriel',\n",
              " 'en',\n",
              " 'Aracataca',\n",
              " 'al',\n",
              " 'cuidado',\n",
              " 'de',\n",
              " 'sus',\n",
              " 'abuelos',\n",
              " 'maternos',\n",
              " '.',\n",
              " 'Dado',\n",
              " 'que',\n",
              " 'vivió',\n",
              " 'con',\n",
              " 'ellos',\n",
              " 'durante',\n",
              " 'los',\n",
              " 'primeros',\n",
              " 'años',\n",
              " 'de',\n",
              " 'su',\n",
              " 'vida',\n",
              " ',',\n",
              " 'recibió',\n",
              " 'una',\n",
              " 'fuerte',\n",
              " 'influencia',\n",
              " 'del',\n",
              " 'coronel',\n",
              " 'Nicolás',\n",
              " 'Márquez',\n",
              " ',',\n",
              " 'quien',\n",
              " 'de',\n",
              " 'joven',\n",
              " 'mató',\n",
              " 'a',\n",
              " 'Medardo',\n",
              " 'Pacheco',\n",
              " 'en',\n",
              " 'un',\n",
              " 'duelo',\n",
              " 'y',\n",
              " 'tuvo',\n",
              " ',',\n",
              " 'además',\n",
              " 'de',\n",
              " 'los',\n",
              " 'tres',\n",
              " 'hijos',\n",
              " 'oficiales',\n",
              " ',',\n",
              " 'otros',\n",
              " 'nueve',\n",
              " 'con',\n",
              " 'distintas',\n",
              " 'madres',\n",
              " '.',\n",
              " 'El',\n",
              " 'coronel',\n",
              " 'era',\n",
              " 'un',\n",
              " 'liberal',\n",
              " 'veterano',\n",
              " 'de',\n",
              " 'la',\n",
              " 'guerra',\n",
              " 'de',\n",
              " 'los',\n",
              " 'Mil',\n",
              " 'Días',\n",
              " ',',\n",
              " 'muy',\n",
              " 'respetado',\n",
              " 'por',\n",
              " 'sus',\n",
              " 'copartidarios',\n",
              " 'y',\n",
              " 'conocido',\n",
              " 'por',\n",
              " 'su',\n",
              " 'negativa',\n",
              " 'a',\n",
              " 'callar',\n",
              " 'sobre',\n",
              " 'la',\n",
              " 'masacre',\n",
              " 'de',\n",
              " 'las',\n",
              " 'bananeras',\n",
              " ',',\n",
              " 'suceso',\n",
              " 'en',\n",
              " 'el',\n",
              " 'que',\n",
              " 'murieron',\n",
              " 'cientos',\n",
              " 'de',\n",
              " 'personas',\n",
              " 'a',\n",
              " 'manos',\n",
              " 'de',\n",
              " 'las',\n",
              " 'Fuerzas',\n",
              " 'Armadas',\n",
              " 'de',\n",
              " 'Colombia',\n",
              " 'durante',\n",
              " 'una',\n",
              " 'huelga',\n",
              " 'de',\n",
              " 'los',\n",
              " 'trabajadores',\n",
              " 'de',\n",
              " 'las',\n",
              " 'bananeras',\n",
              " ',',\n",
              " 'hecho',\n",
              " 'que',\n",
              " 'García',\n",
              " 'Márquez',\n",
              " 'plasmaría',\n",
              " 'en',\n",
              " 'su',\n",
              " 'obra',\n",
              " '.']"
            ]
          },
          "metadata": {},
          "execution_count": 26
        }
      ]
    },
    {
      "cell_type": "code",
      "source": [
        "sent_tokenize(text)"
      ],
      "metadata": {
        "colab": {
          "base_uri": "https://localhost:8080/"
        },
        "id": "QOg9qI602NsY",
        "outputId": "d09ebd03-586c-4ed2-bae8-602fcfba1181"
      },
      "execution_count": null,
      "outputs": [
        {
          "output_type": "execute_result",
          "data": {
            "text/plain": [
              "['\\nPoco después del nacimiento de Gabriel, su padre se convirtió en farmacéutico y, en enero de 1928, se mudó con Luisa a Barranquilla, dejando a Gabriel en Aracataca al cuidado de sus abuelos maternos.',\n",
              " 'Dado que vivió con ellos durante los primeros años de su vida, recibió una fuerte influencia del coronel Nicolás Márquez, quien de joven mató a Medardo Pacheco en un duelo y tuvo, además de los tres hijos oficiales, otros nueve con distintas madres.',\n",
              " 'El coronel era un liberal veterano de la guerra de los Mil Días, muy respetado por sus copartidarios y conocido por su negativa a callar sobre la masacre de las bananeras, suceso en el que murieron cientos de personas a manos de las Fuerzas Armadas de Colombia durante una huelga de los trabajadores de las bananeras, hecho que García Márquez plasmaría en su obra.']"
            ]
          },
          "metadata": {},
          "execution_count": 27
        }
      ]
    },
    {
      "cell_type": "markdown",
      "source": [
        "- spacy"
      ],
      "metadata": {
        "id": "VpZN8JFt2WJg"
      }
    },
    {
      "cell_type": "code",
      "source": [
        "import spacy\n",
        "spacy.cli.download(\"es_core_news_md\")"
      ],
      "metadata": {
        "colab": {
          "base_uri": "https://localhost:8080/"
        },
        "id": "iRmwrbqm39Ih",
        "outputId": "c44bcc54-cd45-4f5e-f42b-c1e37658f1dc"
      },
      "execution_count": null,
      "outputs": [
        {
          "output_type": "stream",
          "name": "stdout",
          "text": [
            "\u001b[38;5;2m✔ Download and installation successful\u001b[0m\n",
            "You can now load the package via spacy.load('es_core_news_md')\n"
          ]
        }
      ]
    },
    {
      "cell_type": "code",
      "source": [
        "pipe = spacy.load(\"es_core_news_md\")"
      ],
      "metadata": {
        "id": "UNZmpsWT4Fjf"
      },
      "execution_count": null,
      "outputs": []
    },
    {
      "cell_type": "code",
      "source": [
        "doc = pipe(text)"
      ],
      "metadata": {
        "id": "ejNiCgkt4LiF"
      },
      "execution_count": null,
      "outputs": []
    },
    {
      "cell_type": "code",
      "source": [
        "for token in doc:\n",
        "    print(token)"
      ],
      "metadata": {
        "colab": {
          "base_uri": "https://localhost:8080/"
        },
        "id": "ftpuUJG24N2c",
        "outputId": "90f1857a-9253-436a-8b31-edd0a5f593a3"
      },
      "execution_count": null,
      "outputs": [
        {
          "output_type": "stream",
          "name": "stdout",
          "text": [
            "\n",
            "\n",
            "Poco\n",
            "después\n",
            "del\n",
            "nacimiento\n",
            "de\n",
            "Gabriel\n",
            ",\n",
            "su\n",
            "padre\n",
            "se\n",
            "convirtió\n",
            "en\n",
            "farmacéutico\n",
            "y\n",
            ",\n",
            "en\n",
            "enero\n",
            "de\n",
            "1928\n",
            ",\n",
            "se\n",
            "mudó\n",
            "con\n",
            "Luisa\n",
            "a\n",
            "Barranquilla\n",
            ",\n",
            "dejando\n",
            "a\n",
            "Gabriel\n",
            "en\n",
            "Aracataca\n",
            "al\n",
            "cuidado\n",
            "de\n",
            "sus\n",
            "abuelos\n",
            "maternos\n",
            ".\n",
            "Dado\n",
            "que\n",
            "vivió\n",
            "con\n",
            "ellos\n",
            "durante\n",
            "los\n",
            "primeros\n",
            "años\n",
            "de\n",
            "su\n",
            "vida\n",
            ",\n",
            "recibió\n",
            "una\n",
            "fuerte\n",
            "influencia\n",
            "del\n",
            "coronel\n",
            "Nicolás\n",
            "Márquez\n",
            ",\n",
            "quien\n",
            "de\n",
            "joven\n",
            "mató\n",
            "a\n",
            "Medardo\n",
            "Pacheco\n",
            "en\n",
            "un\n",
            "duelo\n",
            "y\n",
            "tuvo\n",
            ",\n",
            "además\n",
            "de\n",
            "los\n",
            "tres\n",
            "hijos\n",
            "oficiales\n",
            ",\n",
            "otros\n",
            "nueve\n",
            "con\n",
            "distintas\n",
            "madres\n",
            ".\n",
            "El\n",
            "coronel\n",
            "era\n",
            "un\n",
            "liberal\n",
            "veterano\n",
            "de\n",
            "la\n",
            "guerra\n",
            "de\n",
            "los\n",
            "Mil\n",
            "Días\n",
            ",\n",
            "muy\n",
            "respetado\n",
            "por\n",
            "sus\n",
            "copartidarios\n",
            "y\n",
            "conocido\n",
            "por\n",
            "su\n",
            "negativa\n",
            "a\n",
            "callar\n",
            "sobre\n",
            "la\n",
            "masacre\n",
            "de\n",
            "las\n",
            "bananeras\n",
            ",\n",
            "suceso\n",
            "en\n",
            "el\n",
            "que\n",
            "murieron\n",
            "cientos\n",
            "de\n",
            "personas\n",
            "a\n",
            "manos\n",
            "de\n",
            "las\n",
            "Fuerzas\n",
            "Armadas\n",
            "de\n",
            "Colombia\n",
            "durante\n",
            "una\n",
            "huelga\n",
            "de\n",
            "los\n",
            "trabajadores\n",
            "de\n",
            "las\n",
            "bananeras\n",
            ",\n",
            "hecho\n",
            "que\n",
            "García\n",
            "Márquez\n",
            "plasmaría\n",
            "en\n",
            "su\n",
            "obra\n",
            ".\n",
            "\n",
            "\n"
          ]
        }
      ]
    },
    {
      "cell_type": "code",
      "source": [
        "for sent in doc.sents:\n",
        "    print(sent)"
      ],
      "metadata": {
        "colab": {
          "base_uri": "https://localhost:8080/"
        },
        "id": "r8U5nnxC4W65",
        "outputId": "4a5626b2-057d-4766-b4f6-5a4a6b7256f7"
      },
      "execution_count": null,
      "outputs": [
        {
          "output_type": "stream",
          "name": "stdout",
          "text": [
            "\n",
            "\n",
            "Poco después del nacimiento de Gabriel, su padre se convirtió en farmacéutico y, en enero de 1928, se mudó con Luisa a Barranquilla, dejando a Gabriel en Aracataca al cuidado de sus abuelos maternos.\n",
            "Dado que vivió con ellos durante los primeros años de su vida, recibió una fuerte influencia del coronel Nicolás Márquez, quien de joven mató a Medardo Pacheco en un duelo y tuvo, además de los tres hijos oficiales, otros nueve con distintas madres.\n",
            "El coronel era un liberal veterano de la guerra de los Mil Días, muy respetado por sus copartidarios y conocido por su negativa a callar sobre la masacre de las bananeras, suceso en el que murieron cientos de personas a manos de las Fuerzas Armadas de Colombia durante una huelga de los trabajadores de las bananeras, hecho que García Márquez plasmaría en su obra.\n",
            "\n"
          ]
        }
      ]
    },
    {
      "cell_type": "markdown",
      "source": [
        "# Filtrado"
      ],
      "metadata": {
        "id": "2drEDK0ExXFL"
      }
    },
    {
      "cell_type": "markdown",
      "source": [
        "- nltk"
      ],
      "metadata": {
        "id": "bnZAtkOo9vex"
      }
    },
    {
      "cell_type": "code",
      "source": [
        "nltk.download(\"stopwords\")"
      ],
      "metadata": {
        "colab": {
          "base_uri": "https://localhost:8080/"
        },
        "id": "nLVBID1w9_k_",
        "outputId": "732bb6d2-2165-4ae9-df1c-cb3c62a9e4ab"
      },
      "execution_count": null,
      "outputs": [
        {
          "output_type": "stream",
          "name": "stderr",
          "text": [
            "[nltk_data] Downloading package stopwords to /root/nltk_data...\n",
            "[nltk_data]   Unzipping corpora/stopwords.zip.\n"
          ]
        },
        {
          "output_type": "execute_result",
          "data": {
            "text/plain": [
              "True"
            ]
          },
          "metadata": {},
          "execution_count": 38
        }
      ]
    },
    {
      "cell_type": "code",
      "source": [
        "from nltk.corpus import stopwords"
      ],
      "metadata": {
        "id": "ruq3glgb935Z"
      },
      "execution_count": null,
      "outputs": []
    },
    {
      "cell_type": "code",
      "source": [
        "sw = stopwords.words(\"english\")"
      ],
      "metadata": {
        "id": "K6-66zluxYHU"
      },
      "execution_count": null,
      "outputs": []
    },
    {
      "cell_type": "code",
      "source": [
        "sw"
      ],
      "metadata": {
        "colab": {
          "base_uri": "https://localhost:8080/"
        },
        "id": "EdDiNjCY-M9R",
        "outputId": "0e77bcc7-1a74-43c5-9d23-86644abe954d"
      },
      "execution_count": null,
      "outputs": [
        {
          "output_type": "execute_result",
          "data": {
            "text/plain": [
              "['i',\n",
              " 'me',\n",
              " 'my',\n",
              " 'myself',\n",
              " 'we',\n",
              " 'our',\n",
              " 'ours',\n",
              " 'ourselves',\n",
              " 'you',\n",
              " \"you're\",\n",
              " \"you've\",\n",
              " \"you'll\",\n",
              " \"you'd\",\n",
              " 'your',\n",
              " 'yours',\n",
              " 'yourself',\n",
              " 'yourselves',\n",
              " 'he',\n",
              " 'him',\n",
              " 'his',\n",
              " 'himself',\n",
              " 'she',\n",
              " \"she's\",\n",
              " 'her',\n",
              " 'hers',\n",
              " 'herself',\n",
              " 'it',\n",
              " \"it's\",\n",
              " 'its',\n",
              " 'itself',\n",
              " 'they',\n",
              " 'them',\n",
              " 'their',\n",
              " 'theirs',\n",
              " 'themselves',\n",
              " 'what',\n",
              " 'which',\n",
              " 'who',\n",
              " 'whom',\n",
              " 'this',\n",
              " 'that',\n",
              " \"that'll\",\n",
              " 'these',\n",
              " 'those',\n",
              " 'am',\n",
              " 'is',\n",
              " 'are',\n",
              " 'was',\n",
              " 'were',\n",
              " 'be',\n",
              " 'been',\n",
              " 'being',\n",
              " 'have',\n",
              " 'has',\n",
              " 'had',\n",
              " 'having',\n",
              " 'do',\n",
              " 'does',\n",
              " 'did',\n",
              " 'doing',\n",
              " 'a',\n",
              " 'an',\n",
              " 'the',\n",
              " 'and',\n",
              " 'but',\n",
              " 'if',\n",
              " 'or',\n",
              " 'because',\n",
              " 'as',\n",
              " 'until',\n",
              " 'while',\n",
              " 'of',\n",
              " 'at',\n",
              " 'by',\n",
              " 'for',\n",
              " 'with',\n",
              " 'about',\n",
              " 'against',\n",
              " 'between',\n",
              " 'into',\n",
              " 'through',\n",
              " 'during',\n",
              " 'before',\n",
              " 'after',\n",
              " 'above',\n",
              " 'below',\n",
              " 'to',\n",
              " 'from',\n",
              " 'up',\n",
              " 'down',\n",
              " 'in',\n",
              " 'out',\n",
              " 'on',\n",
              " 'off',\n",
              " 'over',\n",
              " 'under',\n",
              " 'again',\n",
              " 'further',\n",
              " 'then',\n",
              " 'once',\n",
              " 'here',\n",
              " 'there',\n",
              " 'when',\n",
              " 'where',\n",
              " 'why',\n",
              " 'how',\n",
              " 'all',\n",
              " 'any',\n",
              " 'both',\n",
              " 'each',\n",
              " 'few',\n",
              " 'more',\n",
              " 'most',\n",
              " 'other',\n",
              " 'some',\n",
              " 'such',\n",
              " 'no',\n",
              " 'nor',\n",
              " 'not',\n",
              " 'only',\n",
              " 'own',\n",
              " 'same',\n",
              " 'so',\n",
              " 'than',\n",
              " 'too',\n",
              " 'very',\n",
              " 's',\n",
              " 't',\n",
              " 'can',\n",
              " 'will',\n",
              " 'just',\n",
              " 'don',\n",
              " \"don't\",\n",
              " 'should',\n",
              " \"should've\",\n",
              " 'now',\n",
              " 'd',\n",
              " 'll',\n",
              " 'm',\n",
              " 'o',\n",
              " 're',\n",
              " 've',\n",
              " 'y',\n",
              " 'ain',\n",
              " 'aren',\n",
              " \"aren't\",\n",
              " 'couldn',\n",
              " \"couldn't\",\n",
              " 'didn',\n",
              " \"didn't\",\n",
              " 'doesn',\n",
              " \"doesn't\",\n",
              " 'hadn',\n",
              " \"hadn't\",\n",
              " 'hasn',\n",
              " \"hasn't\",\n",
              " 'haven',\n",
              " \"haven't\",\n",
              " 'isn',\n",
              " \"isn't\",\n",
              " 'ma',\n",
              " 'mightn',\n",
              " \"mightn't\",\n",
              " 'mustn',\n",
              " \"mustn't\",\n",
              " 'needn',\n",
              " \"needn't\",\n",
              " 'shan',\n",
              " \"shan't\",\n",
              " 'shouldn',\n",
              " \"shouldn't\",\n",
              " 'wasn',\n",
              " \"wasn't\",\n",
              " 'weren',\n",
              " \"weren't\",\n",
              " 'won',\n",
              " \"won't\",\n",
              " 'wouldn',\n",
              " \"wouldn't\"]"
            ]
          },
          "metadata": {},
          "execution_count": 43
        }
      ]
    },
    {
      "cell_type": "markdown",
      "source": [
        "1. estoy triste\n",
        "2. ESTOY TRISTE!!!! :("
      ],
      "metadata": {
        "id": "bM9EwfAH_BcS"
      }
    },
    {
      "cell_type": "code",
      "source": [
        "sw = stopwords.words(\"spanish\")"
      ],
      "metadata": {
        "id": "br8Cer3J_4mg"
      },
      "execution_count": null,
      "outputs": []
    },
    {
      "cell_type": "code",
      "source": [
        "tokens = word_tokenize(text)"
      ],
      "metadata": {
        "id": "tNjstcMQ_7wc"
      },
      "execution_count": null,
      "outputs": []
    },
    {
      "cell_type": "code",
      "source": [
        "len(tokens)"
      ],
      "metadata": {
        "colab": {
          "base_uri": "https://localhost:8080/"
        },
        "id": "1r_8KdyD_-Dp",
        "outputId": "60013efd-b2d5-420d-c1b5-2b0f849faad9"
      },
      "execution_count": null,
      "outputs": [
        {
          "output_type": "execute_result",
          "data": {
            "text/plain": [
              "155"
            ]
          },
          "metadata": {},
          "execution_count": 46
        }
      ]
    },
    {
      "cell_type": "code",
      "source": [
        "x = list(range(10))\n",
        "x"
      ],
      "metadata": {
        "colab": {
          "base_uri": "https://localhost:8080/"
        },
        "id": "dKtJ3ILe__qr",
        "outputId": "98c4e52e-15a9-4148-afbc-6a3c9c9a1503"
      },
      "execution_count": null,
      "outputs": [
        {
          "output_type": "execute_result",
          "data": {
            "text/plain": [
              "[0, 1, 2, 3, 4, 5, 6, 7, 8, 9]"
            ]
          },
          "metadata": {},
          "execution_count": 47
        }
      ]
    },
    {
      "cell_type": "code",
      "source": [
        "list(filter(lambda i: i > 5, x))"
      ],
      "metadata": {
        "colab": {
          "base_uri": "https://localhost:8080/"
        },
        "id": "-diGMMTDAI8X",
        "outputId": "59969865-d727-4d22-90df-b4b8f7d92ef6"
      },
      "execution_count": null,
      "outputs": [
        {
          "output_type": "execute_result",
          "data": {
            "text/plain": [
              "[6, 7, 8, 9]"
            ]
          },
          "metadata": {},
          "execution_count": 48
        }
      ]
    },
    {
      "cell_type": "code",
      "source": [
        "filtered_text = list(filter(\n",
        "    lambda token: token not in sw,\n",
        "    tokens\n",
        "))"
      ],
      "metadata": {
        "id": "ycRe5yPqAUAQ"
      },
      "execution_count": null,
      "outputs": []
    },
    {
      "cell_type": "code",
      "source": [
        "len(filtered_text)"
      ],
      "metadata": {
        "colab": {
          "base_uri": "https://localhost:8080/"
        },
        "id": "SsyyG2HgAZ11",
        "outputId": "95876604-ddbf-45bb-dd0b-826e424e7bd2"
      },
      "execution_count": null,
      "outputs": [
        {
          "output_type": "execute_result",
          "data": {
            "text/plain": [
              "85"
            ]
          },
          "metadata": {},
          "execution_count": 51
        }
      ]
    },
    {
      "cell_type": "code",
      "source": [
        "pprint(\" \".join(filtered_text))"
      ],
      "metadata": {
        "colab": {
          "base_uri": "https://localhost:8080/"
        },
        "id": "wVkBhB7GAem_",
        "outputId": "bea77b59-fd68-4956-abf2-93e612d4aaca"
      },
      "execution_count": null,
      "outputs": [
        {
          "output_type": "stream",
          "name": "stdout",
          "text": [
            "('Poco después nacimiento Gabriel , padre convirtió farmacéutico , enero 1928 '\n",
            " ', mudó Luisa Barranquilla , dejando Gabriel Aracataca cuidado abuelos '\n",
            " 'maternos . Dado vivió primeros años vida , recibió fuerte influencia coronel '\n",
            " 'Nicolás Márquez , joven mató Medardo Pacheco duelo , además tres hijos '\n",
            " 'oficiales , nueve distintas madres . El coronel liberal veterano guerra Mil '\n",
            " 'Días , respetado copartidarios conocido negativa callar masacre bananeras , '\n",
            " 'suceso murieron cientos personas manos Fuerzas Armadas Colombia huelga '\n",
            " 'trabajadores bananeras , hecho García Márquez plasmaría obra .')\n"
          ]
        }
      ]
    },
    {
      "cell_type": "code",
      "source": [
        "filtered_text = list(filter(\n",
        "    lambda token: token not in sw and len(token) > 3,\n",
        "    tokens\n",
        "))"
      ],
      "metadata": {
        "id": "7kDsAhosBN_0"
      },
      "execution_count": null,
      "outputs": []
    },
    {
      "cell_type": "code",
      "source": [
        "pprint(filtered_text)"
      ],
      "metadata": {
        "colab": {
          "base_uri": "https://localhost:8080/"
        },
        "id": "-jc7VqlUBSOf",
        "outputId": "242aeead-ec33-4c36-def3-ca7513691586"
      },
      "execution_count": null,
      "outputs": [
        {
          "output_type": "stream",
          "name": "stdout",
          "text": [
            "['Poco',\n",
            " 'después',\n",
            " 'nacimiento',\n",
            " 'Gabriel',\n",
            " 'padre',\n",
            " 'convirtió',\n",
            " 'farmacéutico',\n",
            " 'enero',\n",
            " '1928',\n",
            " 'mudó',\n",
            " 'Luisa',\n",
            " 'Barranquilla',\n",
            " 'dejando',\n",
            " 'Gabriel',\n",
            " 'Aracataca',\n",
            " 'cuidado',\n",
            " 'abuelos',\n",
            " 'maternos',\n",
            " 'Dado',\n",
            " 'vivió',\n",
            " 'primeros',\n",
            " 'años',\n",
            " 'vida',\n",
            " 'recibió',\n",
            " 'fuerte',\n",
            " 'influencia',\n",
            " 'coronel',\n",
            " 'Nicolás',\n",
            " 'Márquez',\n",
            " 'joven',\n",
            " 'mató',\n",
            " 'Medardo',\n",
            " 'Pacheco',\n",
            " 'duelo',\n",
            " 'además',\n",
            " 'tres',\n",
            " 'hijos',\n",
            " 'oficiales',\n",
            " 'nueve',\n",
            " 'distintas',\n",
            " 'madres',\n",
            " 'coronel',\n",
            " 'liberal',\n",
            " 'veterano',\n",
            " 'guerra',\n",
            " 'Días',\n",
            " 'respetado',\n",
            " 'copartidarios',\n",
            " 'conocido',\n",
            " 'negativa',\n",
            " 'callar',\n",
            " 'masacre',\n",
            " 'bananeras',\n",
            " 'suceso',\n",
            " 'murieron',\n",
            " 'cientos',\n",
            " 'personas',\n",
            " 'manos',\n",
            " 'Fuerzas',\n",
            " 'Armadas',\n",
            " 'Colombia',\n",
            " 'huelga',\n",
            " 'trabajadores',\n",
            " 'bananeras',\n",
            " 'hecho',\n",
            " 'García',\n",
            " 'Márquez',\n",
            " 'plasmaría',\n",
            " 'obra']\n"
          ]
        }
      ]
    },
    {
      "cell_type": "markdown",
      "source": [
        "- spacy"
      ],
      "metadata": {
        "id": "CD_uyvMGBiuP"
      }
    },
    {
      "cell_type": "code",
      "source": [
        "x = list(range(10))\n",
        "x"
      ],
      "metadata": {
        "colab": {
          "base_uri": "https://localhost:8080/"
        },
        "id": "--07Cyq4BuDu",
        "outputId": "2deef5fb-1776-480f-ac95-04579212db4d"
      },
      "execution_count": null,
      "outputs": [
        {
          "output_type": "execute_result",
          "data": {
            "text/plain": [
              "[0, 1, 2, 3, 4, 5, 6, 7, 8, 9]"
            ]
          },
          "metadata": {},
          "execution_count": 58
        }
      ]
    },
    {
      "cell_type": "code",
      "source": [
        "list(map(lambda i: i ** 2, x))"
      ],
      "metadata": {
        "colab": {
          "base_uri": "https://localhost:8080/"
        },
        "id": "Ql4yFg9MBwKl",
        "outputId": "b4b35fa5-d354-43ba-9c95-62bfac48826a"
      },
      "execution_count": null,
      "outputs": [
        {
          "output_type": "execute_result",
          "data": {
            "text/plain": [
              "[0, 1, 4, 9, 16, 25, 36, 49, 64, 81]"
            ]
          },
          "metadata": {},
          "execution_count": 59
        }
      ]
    },
    {
      "cell_type": "code",
      "source": [
        "doc = pipe(text)\n",
        "filtered_tokens = list(filter(lambda token: not token.is_stop, doc))\n",
        "filtered_text = \" \".join(token.text for token in filtered_tokens)\n",
        "pprint(filtered_text)\n",
        "#doc[1].is_stop"
      ],
      "metadata": {
        "colab": {
          "base_uri": "https://localhost:8080/"
        },
        "id": "41wKKvgJBjx4",
        "outputId": "1778b032-7497-4289-c363-f459b0b66261"
      },
      "execution_count": null,
      "outputs": [
        {
          "output_type": "stream",
          "name": "stdout",
          "text": [
            "('\\n'\n",
            " ' nacimiento Gabriel , padre convirtió farmacéutico , enero 1928 , mudó Luisa '\n",
            " 'Barranquilla , dejando Gabriel Aracataca cuidado abuelos maternos . vivió '\n",
            " 'años vida , recibió fuerte influencia coronel Nicolás Márquez , joven mató '\n",
            " 'Medardo Pacheco duelo , hijos oficiales , distintas madres . coronel liberal '\n",
            " 'veterano guerra Mil , respetado copartidarios conocido negativa callar '\n",
            " 'masacre bananeras , suceso murieron cientos personas manos Fuerzas Armadas '\n",
            " 'Colombia huelga trabajadores bananeras , García Márquez plasmaría obra . \\n')\n"
          ]
        }
      ]
    },
    {
      "cell_type": "markdown",
      "source": [
        "# Lematizacion"
      ],
      "metadata": {
        "id": "UA41Uou1xZMG"
      }
    },
    {
      "cell_type": "markdown",
      "source": [
        "- nltk"
      ],
      "metadata": {
        "id": "7b31TWOIDSA0"
      }
    },
    {
      "cell_type": "code",
      "source": [
        "nltk.download(\"wordnet\")"
      ],
      "metadata": {
        "colab": {
          "base_uri": "https://localhost:8080/"
        },
        "id": "nPlIHIbMDlpD",
        "outputId": "c1fce53d-ad23-4815-cda2-c05583a7c6e8"
      },
      "execution_count": null,
      "outputs": [
        {
          "output_type": "stream",
          "name": "stderr",
          "text": [
            "[nltk_data] Downloading package wordnet to /root/nltk_data...\n"
          ]
        },
        {
          "output_type": "execute_result",
          "data": {
            "text/plain": [
              "True"
            ]
          },
          "metadata": {},
          "execution_count": 69
        }
      ]
    },
    {
      "cell_type": "code",
      "source": [
        "from nltk.stem import WordNetLemmatizer"
      ],
      "metadata": {
        "id": "IBBqYDhfxaBi"
      },
      "execution_count": null,
      "outputs": []
    },
    {
      "cell_type": "code",
      "source": [
        "lemmatizer = WordNetLemmatizer()"
      ],
      "metadata": {
        "id": "Oo6_I2IYDci9"
      },
      "execution_count": null,
      "outputs": []
    },
    {
      "cell_type": "code",
      "source": [
        "lemmatizer.lemmatize(\"ate\", pos=\"v\")"
      ],
      "metadata": {
        "colab": {
          "base_uri": "https://localhost:8080/",
          "height": 35
        },
        "id": "69VR4LiXDfoh",
        "outputId": "214b5e53-47fa-4486-df8c-13422ccbc0ff"
      },
      "execution_count": null,
      "outputs": [
        {
          "output_type": "execute_result",
          "data": {
            "text/plain": [
              "'eat'"
            ],
            "application/vnd.google.colaboratory.intrinsic+json": {
              "type": "string"
            }
          },
          "metadata": {},
          "execution_count": 75
        }
      ]
    },
    {
      "cell_type": "code",
      "source": [
        "lemmatizer.lemmatize(\"cars\", pos=\"n\")"
      ],
      "metadata": {
        "colab": {
          "base_uri": "https://localhost:8080/",
          "height": 35
        },
        "id": "mK4i3JcHEIDq",
        "outputId": "72f7168d-2419-498b-ed06-ff8c625ca430"
      },
      "execution_count": null,
      "outputs": [
        {
          "output_type": "execute_result",
          "data": {
            "text/plain": [
              "'car'"
            ],
            "application/vnd.google.colaboratory.intrinsic+json": {
              "type": "string"
            }
          },
          "metadata": {},
          "execution_count": 76
        }
      ]
    },
    {
      "cell_type": "markdown",
      "source": [
        "- spacy"
      ],
      "metadata": {
        "id": "_pw78EYOEvlx"
      }
    },
    {
      "cell_type": "code",
      "source": [
        "doc = pipe(text)"
      ],
      "metadata": {
        "id": "ODm080FyE74h"
      },
      "execution_count": null,
      "outputs": []
    },
    {
      "cell_type": "code",
      "source": [
        "pprint(text)"
      ],
      "metadata": {
        "colab": {
          "base_uri": "https://localhost:8080/"
        },
        "id": "glYqXaFeFUsq",
        "outputId": "ea8af1a9-d0fc-4fa8-8515-fa12d151f743"
      },
      "execution_count": null,
      "outputs": [
        {
          "output_type": "stream",
          "name": "stdout",
          "text": [
            "('\\n'\n",
            " 'Poco después del nacimiento de Gabriel, su padre se convirtió en '\n",
            " 'farmacéutico y, en enero de 1928, se mudó con Luisa a Barranquilla, dejando '\n",
            " 'a Gabriel en Aracataca al cuidado de sus abuelos maternos. Dado que vivió '\n",
            " 'con ellos durante los primeros años de su vida, recibió una fuerte '\n",
            " 'influencia del coronel Nicolás Márquez, quien de joven mató a Medardo '\n",
            " 'Pacheco en un duelo y tuvo, además de los tres hijos oficiales, otros nueve '\n",
            " 'con distintas madres. El coronel era un liberal veterano de la guerra de los '\n",
            " 'Mil Días, muy respetado por sus copartidarios y conocido por su negativa a '\n",
            " 'callar sobre la masacre de las bananeras, suceso en el que murieron cientos '\n",
            " 'de personas a manos de las Fuerzas Armadas de Colombia durante una huelga de '\n",
            " 'los trabajadores de las bananeras, hecho que García Márquez plasmaría en su '\n",
            " 'obra.\\n')\n"
          ]
        }
      ]
    },
    {
      "cell_type": "code",
      "source": [
        "lemmas = list(map(lambda token: token.lemma_, doc))\n",
        "pprint(\" \".join(lemmas))"
      ],
      "metadata": {
        "colab": {
          "base_uri": "https://localhost:8080/"
        },
        "id": "ONIrEVZjFB8x",
        "outputId": "9751d82c-984f-4abd-f03a-59b58050af64"
      },
      "execution_count": null,
      "outputs": [
        {
          "output_type": "stream",
          "name": "stdout",
          "text": [
            "('\\n'\n",
            " ' poco después del nacimiento de Gabriel , su padre él convertir en '\n",
            " 'farmacéutico y , en enero de 1928 , él mudar con Luisa a Barranquilla , '\n",
            " 'dejar a Gabriel en Aracataca al cuidado de su abuelo materno . dado que '\n",
            " 'vivir con él durante el primero año de su vida , recibir uno fuerte '\n",
            " 'influencia del coronel Nicolás Márquez , quien de joven matar a Medardo '\n",
            " 'Pacheco en uno duelo y tener , además de el tres hijo oficial , otro nueve '\n",
            " 'con distinto madre . el coronel ser uno liberal veterano de el guerra de el '\n",
            " 'mil Días , mucho respetado por su copartidario y conocido por su negativa a '\n",
            " 'callar sobre el masacre de el bananera , suceso en el que morir ciento de '\n",
            " 'persona a manos de el Fuerzas Armadas de Colombia durante uno huelga de el '\n",
            " 'trabajador de el bananera , hecho que García Márquez plasmar en su obra . \\n')\n"
          ]
        }
      ]
    },
    {
      "cell_type": "markdown",
      "source": [
        "# Normalizacion"
      ],
      "metadata": {
        "id": "cb985tMjxa7Q"
      }
    },
    {
      "cell_type": "code",
      "source": [
        "%%shell\n",
        "pip install unidecode"
      ],
      "metadata": {
        "colab": {
          "base_uri": "https://localhost:8080/"
        },
        "id": "948k--hixbrZ",
        "outputId": "508b00b1-1e50-49b1-a9bb-7610aef921f4"
      },
      "execution_count": null,
      "outputs": [
        {
          "output_type": "stream",
          "name": "stdout",
          "text": [
            "Collecting unidecode\n",
            "  Downloading Unidecode-1.3.6-py3-none-any.whl (235 kB)\n",
            "\u001b[2K     \u001b[90m━━━━━━━━━━━━━━━━━━━━━━━━━━━━━━━━━━━━━━━\u001b[0m \u001b[32m235.9/235.9 kB\u001b[0m \u001b[31m4.2 MB/s\u001b[0m eta \u001b[36m0:00:00\u001b[0m\n",
            "\u001b[?25hInstalling collected packages: unidecode\n",
            "Successfully installed unidecode-1.3.6\n"
          ]
        },
        {
          "output_type": "execute_result",
          "data": {
            "text/plain": []
          },
          "metadata": {},
          "execution_count": 82
        }
      ]
    },
    {
      "cell_type": "code",
      "source": [
        "from unidecode import unidecode"
      ],
      "metadata": {
        "id": "SBD7aZEJGGhh"
      },
      "execution_count": null,
      "outputs": []
    },
    {
      "cell_type": "code",
      "source": [
        "x = \"O sol brilha intensamente sobre as águas azuis do oceano. As palmeiras balançam suavemente ao vento, enquanto as ondas quebram na costa arenosa. Este é um lugar de beleza natural deslumbrante, onde a tranquilidade reina supremamente. À noite, as estrelas cintilam no céu escuro, criando um espetáculo celestial que nos lembra a vastidão do universo. Aqui, a natureza nos presenteia com sua magnificência, e podemos nos perder na serenidade deste paraíso tropical.\""
      ],
      "metadata": {
        "id": "KBDEfHzeGJ9W"
      },
      "execution_count": null,
      "outputs": []
    },
    {
      "cell_type": "code",
      "source": [
        "pprint(unidecode(x))"
      ],
      "metadata": {
        "colab": {
          "base_uri": "https://localhost:8080/"
        },
        "id": "E94ZV0BeGcCX",
        "outputId": "39142ed8-cd19-4088-ac24-5ecefeb405ae"
      },
      "execution_count": null,
      "outputs": [
        {
          "output_type": "stream",
          "name": "stdout",
          "text": [
            "('O sol brilha intensamente sobre as aguas azuis do oceano. As palmeiras '\n",
            " 'balancam suavemente ao vento, enquanto as ondas quebram na costa arenosa. '\n",
            " 'Este e um lugar de beleza natural deslumbrante, onde a tranquilidade reina '\n",
            " 'supremamente. A noite, as estrelas cintilam no ceu escuro, criando um '\n",
            " 'espetaculo celestial que nos lembra a vastidao do universo. Aqui, a natureza '\n",
            " 'nos presenteia com sua magnificencia, e podemos nos perder na serenidade '\n",
            " 'deste paraiso tropical.')\n"
          ]
        }
      ]
    },
    {
      "cell_type": "markdown",
      "source": [
        "# Modificacion de Grafia"
      ],
      "metadata": {
        "id": "A-fj0L0cxchK"
      }
    },
    {
      "cell_type": "code",
      "source": [
        "text"
      ],
      "metadata": {
        "colab": {
          "base_uri": "https://localhost:8080/",
          "height": 174
        },
        "id": "6A6VRlK2xd8o",
        "outputId": "a9bf9af7-d21c-4931-90c6-f32b61ec7eae"
      },
      "execution_count": null,
      "outputs": [
        {
          "output_type": "execute_result",
          "data": {
            "text/plain": [
              "'\\nPoco después del nacimiento de Gabriel, su padre se convirtió en farmacéutico y, en enero de 1928, se mudó con Luisa a Barranquilla, dejando a Gabriel en Aracataca al cuidado de sus abuelos maternos. Dado que vivió con ellos durante los primeros años de su vida, recibió una fuerte influencia del coronel Nicolás Márquez, quien de joven mató a Medardo Pacheco en un duelo y tuvo, además de los tres hijos oficiales, otros nueve con distintas madres. El coronel era un liberal veterano de la guerra de los Mil Días, muy respetado por sus copartidarios y conocido por su negativa a callar sobre la masacre de las bananeras, suceso en el que murieron cientos de personas a manos de las Fuerzas Armadas de Colombia durante una huelga de los trabajadores de las bananeras, hecho que García Márquez plasmaría en su obra.\\n'"
            ],
            "application/vnd.google.colaboratory.intrinsic+json": {
              "type": "string"
            }
          },
          "metadata": {},
          "execution_count": 87
        }
      ]
    },
    {
      "cell_type": "code",
      "source": [
        "text.lower()"
      ],
      "metadata": {
        "colab": {
          "base_uri": "https://localhost:8080/",
          "height": 174
        },
        "id": "-7cKFx8CG74k",
        "outputId": "2aa6f2f6-1454-45c6-af3b-2e2cf8b1ff59"
      },
      "execution_count": null,
      "outputs": [
        {
          "output_type": "execute_result",
          "data": {
            "text/plain": [
              "'\\npoco después del nacimiento de gabriel, su padre se convirtió en farmacéutico y, en enero de 1928, se mudó con luisa a barranquilla, dejando a gabriel en aracataca al cuidado de sus abuelos maternos. dado que vivió con ellos durante los primeros años de su vida, recibió una fuerte influencia del coronel nicolás márquez, quien de joven mató a medardo pacheco en un duelo y tuvo, además de los tres hijos oficiales, otros nueve con distintas madres. el coronel era un liberal veterano de la guerra de los mil días, muy respetado por sus copartidarios y conocido por su negativa a callar sobre la masacre de las bananeras, suceso en el que murieron cientos de personas a manos de las fuerzas armadas de colombia durante una huelga de los trabajadores de las bananeras, hecho que garcía márquez plasmaría en su obra.\\n'"
            ],
            "application/vnd.google.colaboratory.intrinsic+json": {
              "type": "string"
            }
          },
          "metadata": {},
          "execution_count": 88
        }
      ]
    },
    {
      "cell_type": "markdown",
      "source": [
        "# Flujo de Preprocesamiento"
      ],
      "metadata": {
        "id": "XphIHcUzxfAR"
      }
    },
    {
      "cell_type": "code",
      "source": [
        "def preprocess_nltk(text: str) -> str:\n",
        "    # 1. minusculas.\n",
        "    lower_text = text.lower()\n",
        "    # 2. normalizar.\n",
        "    norm_text = unidecode(lower_text)\n",
        "    # 3. tokenizar.\n",
        "    tokens = word_tokenize(norm_text)\n",
        "    # 4. filtrar\n",
        "    filtered_tokens = filter(\n",
        "        lambda token: token not in sw and len(token) > 3,\n",
        "        tokens\n",
        "    )\n",
        "\n",
        "    return \" \".join(filtered_tokens)"
      ],
      "metadata": {
        "id": "0PHwNHADxgvZ"
      },
      "execution_count": null,
      "outputs": []
    },
    {
      "cell_type": "code",
      "source": [
        "preprocess_nltk(text)"
      ],
      "metadata": {
        "colab": {
          "base_uri": "https://localhost:8080/",
          "height": 122
        },
        "id": "J_1ylfPLH6k7",
        "outputId": "4d7a6bc3-b6cd-473c-f8b2-cf1e135f6291"
      },
      "execution_count": null,
      "outputs": [
        {
          "output_type": "execute_result",
          "data": {
            "text/plain": [
              "'despues nacimiento gabriel padre convirtio farmaceutico enero 1928 mudo luisa barranquilla dejando gabriel aracataca cuidado abuelos maternos dado vivio primeros anos vida recibio fuerte influencia coronel nicolas marquez joven mato medardo pacheco duelo ademas tres hijos oficiales nueve distintas madres coronel liberal veterano guerra dias respetado copartidarios conocido negativa callar masacre bananeras suceso murieron cientos personas manos fuerzas armadas colombia huelga trabajadores bananeras hecho garcia marquez plasmaria obra'"
            ],
            "application/vnd.google.colaboratory.intrinsic+json": {
              "type": "string"
            }
          },
          "metadata": {},
          "execution_count": 90
        }
      ]
    },
    {
      "cell_type": "code",
      "source": [
        "def preprocess_spacy(text: str) -> str:\n",
        "    # spacy\n",
        "    doc = pipe(text)\n",
        "\n",
        "    # filtramos\n",
        "    filtered_tokens = filter(\n",
        "        lambda token: not token.is_stop and len(token.text) > 3,\n",
        "        doc\n",
        "    )\n",
        "\n",
        "    # lemma\n",
        "    lemmas = map(lambda token: token.lemma_, filtered_tokens)\n",
        "    lemma_text = \" \".join(lemmas)\n",
        "\n",
        "    # normalizar\n",
        "    norm_text = unidecode(lemma_text)\n",
        "\n",
        "    # grafia\n",
        "    lower_text = norm_text.lower()\n",
        "    return lower_text"
      ],
      "metadata": {
        "id": "wtB5X9NPH9f6"
      },
      "execution_count": null,
      "outputs": []
    },
    {
      "cell_type": "code",
      "source": [
        "preprocess_spacy(text)"
      ],
      "metadata": {
        "colab": {
          "base_uri": "https://localhost:8080/",
          "height": 104
        },
        "id": "cNakQ50pI06p",
        "outputId": "a11f1cb0-cbf6-4865-fcde-f2a6b7fcd7be"
      },
      "execution_count": null,
      "outputs": [
        {
          "output_type": "execute_result",
          "data": {
            "text/plain": [
              "'nacimiento gabriel padre convertir farmaceutico enero 1928 mudar luisa barranquilla dejar gabriel aracataca cuidado abuelo materno vivir ano vida recibir fuerte influencia coronel nicolas marquez joven matar medardo pacheco duelo hijo oficial distinto madre coronel liberal veterano guerra respetado copartidario conocido negativa callar masacre bananera suceso morir ciento persona manos fuerzas armadas colombia huelga trabajador bananera garcia marquez plasmar obra'"
            ],
            "application/vnd.google.colaboratory.intrinsic+json": {
              "type": "string"
            }
          },
          "metadata": {},
          "execution_count": 94
        }
      ]
    },
    {
      "cell_type": "code",
      "source": [],
      "metadata": {
        "id": "iLX5vXxqI2Vj"
      },
      "execution_count": null,
      "outputs": []
    }
  ]
}